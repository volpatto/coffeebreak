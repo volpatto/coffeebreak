{
 "cells": [
  {
   "cell_type": "markdown",
   "metadata": {},
   "source": [
    "# Designing an optimal Coffee extraction with Python"
   ]
  },
  {
   "cell_type": "markdown",
   "metadata": {},
   "source": [
    "Necessary libs:"
   ]
  },
  {
   "cell_type": "code",
   "execution_count": 1,
   "metadata": {
    "ExecuteTime": {
     "end_time": "2019-04-26T19:44:01.644487Z",
     "start_time": "2019-04-26T19:44:01.178026Z"
    }
   },
   "outputs": [],
   "source": [
    "import scipy.integrate as integrate\n",
    "from scipy.optimize import differential_evolution\n",
    "import numpy as np\n",
    "import pandas as pd\n",
    "\n",
    "import matplotlib.pyplot as plt\n",
    "from mpl_toolkits.mplot3d import Axes3D"
   ]
  },
  {
   "cell_type": "markdown",
   "metadata": {},
   "source": [
    "## Solving the ODE"
   ]
  },
  {
   "cell_type": "markdown",
   "metadata": {},
   "source": [
    "Reading data from experiments:"
   ]
  },
  {
   "cell_type": "code",
   "execution_count": 2,
   "metadata": {
    "ExecuteTime": {
     "end_time": "2019-04-26T19:44:01.661631Z",
     "start_time": "2019-04-26T19:44:01.646257Z"
    }
   },
   "outputs": [
    {
     "data": {
      "text/html": [
       "<div>\n",
       "<style scoped>\n",
       "    .dataframe tbody tr th:only-of-type {\n",
       "        vertical-align: middle;\n",
       "    }\n",
       "\n",
       "    .dataframe tbody tr th {\n",
       "        vertical-align: top;\n",
       "    }\n",
       "\n",
       "    .dataframe thead th {\n",
       "        text-align: right;\n",
       "    }\n",
       "</style>\n",
       "<table border=\"1\" class=\"dataframe\">\n",
       "  <thead>\n",
       "    <tr style=\"text-align: right;\">\n",
       "      <th></th>\n",
       "      <th>t</th>\n",
       "      <th>c_h</th>\n",
       "    </tr>\n",
       "  </thead>\n",
       "  <tbody>\n",
       "    <tr>\n",
       "      <th>0</th>\n",
       "      <td>28.864060</td>\n",
       "      <td>1.430038</td>\n",
       "    </tr>\n",
       "    <tr>\n",
       "      <th>1</th>\n",
       "      <td>41.433892</td>\n",
       "      <td>1.565861</td>\n",
       "    </tr>\n",
       "    <tr>\n",
       "      <th>2</th>\n",
       "      <td>73.556797</td>\n",
       "      <td>1.698785</td>\n",
       "    </tr>\n",
       "    <tr>\n",
       "      <th>3</th>\n",
       "      <td>125.232775</td>\n",
       "      <td>1.786578</td>\n",
       "    </tr>\n",
       "    <tr>\n",
       "      <th>4</th>\n",
       "      <td>294.692737</td>\n",
       "      <td>1.799666</td>\n",
       "    </tr>\n",
       "    <tr>\n",
       "      <th>5</th>\n",
       "      <td>421.787709</td>\n",
       "      <td>1.800433</td>\n",
       "    </tr>\n",
       "  </tbody>\n",
       "</table>\n",
       "</div>"
      ],
      "text/plain": [
       "            t       c_h\n",
       "0   28.864060  1.430038\n",
       "1   41.433892  1.565861\n",
       "2   73.556797  1.698785\n",
       "3  125.232775  1.786578\n",
       "4  294.692737  1.799666\n",
       "5  421.787709  1.800433"
      ]
     },
     "execution_count": 2,
     "metadata": {},
     "output_type": "execute_result"
    }
   ],
   "source": [
    "exp_data = pd.read_csv('../data/coffee_conc_norm.csv')\n",
    "\n",
    "exp_data"
   ]
  },
  {
   "cell_type": "code",
   "execution_count": 3,
   "metadata": {
    "ExecuteTime": {
     "end_time": "2019-04-26T19:44:02.138463Z",
     "start_time": "2019-04-26T19:44:01.663493Z"
    }
   },
   "outputs": [
    {
     "data": {
      "image/png": "[encoded data removed]",
      "text/plain": [
       "<Figure size 432x288 with 1 Axes>"
      ]
     },
     "metadata": {
      "needs_background": "light"
     },
     "output_type": "display_data"
    }
   ],
   "source": [
    "plt.plot(exp_data.t, exp_data.c_h, 'o-')\n",
    "plt.xlabel('Time [s]')\n",
    "plt.ylabel(r'$c_h$ [kg/m$^3$]')\n",
    "plt.grid(True, linestyle='--')\n",
    "plt.xlim([0, 500])\n",
    "plt.ylim([0, 2])\n",
    "plt.show()"
   ]
  },
  {
   "cell_type": "markdown",
   "metadata": {},
   "source": [
    "Model data:"
   ]
  },
  {
   "cell_type": "markdown",
   "metadata": {},
   "source": [
    "* Physical parameters (measured):"
   ]
  },
  {
   "cell_type": "code",
   "execution_count": 4,
   "metadata": {
    "ExecuteTime": {
     "end_time": "2019-04-26T19:44:02.144098Z",
     "start_time": "2019-04-26T19:44:02.140313Z"
    }
   },
   "outputs": [],
   "source": [
    "phi_h = 0.8272\n",
    "k_sv1 = 27.35e-6\n",
    "k_sv2 = 322.49e-6\n",
    "l_l = 282e-6\n",
    "D_h = D_v = 2.2e-9\n",
    "m = 30e-6\n",
    "c_sat = 212.4\n",
    "c_s = 1400.0\n",
    "phi_v_inf = 0.6444\n",
    "phi_cd = 0.143435\n",
    "phi_s_s0 = 0.059\n",
    "r_s = 1 / phi_s_s0\n",
    "gamma_1 = 0.70"
   ]
  },
  {
   "cell_type": "markdown",
   "metadata": {},
   "source": [
    "* Fitting parameters:"
   ]
  },
  {
   "cell_type": "code",
   "execution_count": 5,
   "metadata": {
    "ExecuteTime": {
     "end_time": "2019-04-26T19:44:02.160627Z",
     "start_time": "2019-04-26T19:44:02.145779Z"
    }
   },
   "outputs": [],
   "source": [
    "alpha = 0.1833\n",
    "beta = 0.0447"
   ]
  },
  {
   "cell_type": "markdown",
   "metadata": {},
   "source": [
    "* Non-dimensional parameters:"
   ]
  },
  {
   "cell_type": "code",
   "execution_count": 6,
   "metadata": {
    "ExecuteTime": {
     "end_time": "2019-04-26T19:44:02.175476Z",
     "start_time": "2019-04-26T19:44:02.162422Z"
    }
   },
   "outputs": [
    {
     "data": {
      "text/plain": [
       "0.043320528410916714"
      ]
     },
     "execution_count": 6,
     "metadata": {},
     "output_type": "execute_result"
    }
   ],
   "source": [
    "numerator = alpha * D_v * k_sv1 * m * phi_v_inf ** (1. / 3.) * c_s\n",
    "denominator = 2 * beta * D_h * k_sv2 * l_l * phi_cd * c_sat * r_s\n",
    "eps = numerator / denominator\n",
    "\n",
    "eps"
   ]
  },
  {
   "cell_type": "code",
   "execution_count": 7,
   "metadata": {
    "ExecuteTime": {
     "end_time": "2019-04-26T19:44:02.189478Z",
     "start_time": "2019-04-26T19:44:02.177478Z"
    }
   },
   "outputs": [
    {
     "data": {
      "text/plain": [
       "3.1073845262218702"
      ]
     },
     "execution_count": 7,
     "metadata": {},
     "output_type": "execute_result"
    }
   ],
   "source": [
    "numerator = 2 * beta * D_h * k_sv2 * l_l * phi_cd * phi_v_inf ** (2. / 3.) * (1 - phi_h) * c_sat * r_s\n",
    "denominator = alpha * D_v * k_sv1 * m * phi_h * c_s\n",
    "b_1 = numerator / denominator\n",
    "\n",
    "b_1"
   ]
  },
  {
   "cell_type": "code",
   "execution_count": 8,
   "metadata": {
    "ExecuteTime": {
     "end_time": "2019-04-26T19:44:02.206348Z",
     "start_time": "2019-04-26T19:44:02.192934Z"
    }
   },
   "outputs": [
    {
     "data": {
      "text/plain": [
       "1.8752751641107217"
      ]
     },
     "execution_count": 8,
     "metadata": {},
     "output_type": "execute_result"
    }
   ],
   "source": [
    "numerator = 2 * beta * D_h * k_sv2 * l_l * phi_cd * (1 - phi_h)\n",
    "denominator = alpha * D_v * k_sv1 * m * phi_h * phi_v_inf ** (1. / 3.)\n",
    "b_2 = numerator / denominator\n",
    "\n",
    "b_2"
   ]
  },
  {
   "cell_type": "markdown",
   "metadata": {},
   "source": [
    "Scale factor:"
   ]
  },
  {
   "cell_type": "code",
   "execution_count": 9,
   "metadata": {
    "ExecuteTime": {
     "end_time": "2019-04-26T19:44:02.219828Z",
     "start_time": "2019-04-26T19:44:02.209300Z"
    }
   },
   "outputs": [],
   "source": [
    "c_h_factor = c_sat * phi_v_inf * (1 - phi_h) / phi_h"
   ]
  },
  {
   "cell_type": "markdown",
   "metadata": {},
   "source": [
    "Initial conditions:"
   ]
  },
  {
   "cell_type": "code",
   "execution_count": 10,
   "metadata": {
    "ExecuteTime": {
     "end_time": "2019-04-26T19:44:02.233298Z",
     "start_time": "2019-04-26T19:44:02.222019Z"
    }
   },
   "outputs": [],
   "source": [
    "c_h0 = 0.\n",
    "c_v0 = gamma_1\n",
    "psi_s0 = 1"
   ]
  },
  {
   "cell_type": "markdown",
   "metadata": {},
   "source": [
    "EDO's system right-hand-side (RHS):"
   ]
  },
  {
   "cell_type": "code",
   "execution_count": 11,
   "metadata": {
    "ExecuteTime": {
     "end_time": "2019-04-26T19:44:02.246878Z",
     "start_time": "2019-04-26T19:44:02.235200Z"
    }
   },
   "outputs": [],
   "source": [
    "def coffee(t, X, alpha, beta):\n",
    "    #Variables\n",
    "    c_h, c_v, psi_s = X\n",
    "    \n",
    "    # Time derivatives\n",
    "    # c_h\n",
    "    c_h_prime = - eps * b_2 * c_h * psi_s + psi_s - eps * eps * b_1 * c_h + eps * b_1 / b_2 * c_v\n",
    "    # c_v\n",
    "    c_v_prime = eps * eps * b_2 * c_h - eps * c_v\n",
    "    # psi_s\n",
    "    psi_s_prime = eps * b_2 * c_h * psi_s - psi_s\n",
    "    \n",
    "    return c_h_prime, c_v_prime, psi_s_prime"
   ]
  },
  {
   "cell_type": "markdown",
   "metadata": {},
   "source": [
    "Time step parameters:"
   ]
  },
  {
   "cell_type": "code",
   "execution_count": 12,
   "metadata": {
    "ExecuteTime": {
     "end_time": "2019-04-26T19:44:02.261879Z",
     "start_time": "2019-04-26T19:44:02.248319Z"
    }
   },
   "outputs": [],
   "source": [
    "t0 = 0  # tempo inicial\n",
    "tmax = 500. # tempo máximo"
   ]
  },
  {
   "cell_type": "markdown",
   "metadata": {},
   "source": [
    "Solving with RADAU IIA method:"
   ]
  },
  {
   "cell_type": "code",
   "execution_count": 13,
   "metadata": {
    "ExecuteTime": {
     "end_time": "2019-04-26T19:44:02.304190Z",
     "start_time": "2019-04-26T19:44:02.263886Z"
    }
   },
   "outputs": [
    {
     "data": {
      "text/plain": [
       "  message: 'The solver successfully reached the end of the integration interval.'\n",
       "     nfev: 215\n",
       "     njev: 2\n",
       "      nlu: 42\n",
       "      sol: None\n",
       "   status: 0\n",
       "  success: True\n",
       "        t: array([0.00000000e+00, 1.34491794e-03, 1.47940973e-02, 1.49285891e-01,\n",
       "       5.05792684e-01, 1.01677712e+00, 1.65596157e+00, 2.29514603e+00,\n",
       "       3.06667404e+00, 3.83820206e+00, 4.60973007e+00, 5.38125808e+00,\n",
       "       6.15278609e+00, 6.92431411e+00, 7.69584212e+00, 8.64742516e+00,\n",
       "       9.59900820e+00, 1.08249184e+01, 1.23572446e+01, 1.44431095e+01,\n",
       "       1.74205351e+01, 2.29808935e+01, 3.66637068e+01, 5.44331076e+01,\n",
       "       7.22025084e+01, 9.61637159e+01, 1.26819729e+02, 1.69780913e+02,\n",
       "       2.38671758e+02, 3.79236246e+02, 5.00000000e+02])\n",
       " t_events: None\n",
       "        y: array([[ 0.00000000e+00,  1.41150932e-03,  1.54185238e-02,\n",
       "         1.45310923e-01,  4.15843028e-01,  6.74066614e-01,\n",
       "         8.69872151e-01,  9.87656299e-01,  1.07550289e+00,\n",
       "         1.13271694e+00,  1.17444208e+00,  1.20804081e+00,\n",
       "         1.23713908e+00,  1.26354236e+00,  1.28816143e+00,\n",
       "         1.31674350e+00,  1.34375753e+00,  1.37659459e+00,\n",
       "         1.41486925e+00,  1.46250922e+00,  1.52257015e+00,\n",
       "         1.61370358e+00,  1.75566191e+00,  1.84186398e+00,\n",
       "         1.87785778e+00,  1.89571198e+00,  1.90189718e+00,\n",
       "         1.90344557e+00,  1.90365261e+00,  1.90366105e+00,\n",
       "         1.90366135e+00],\n",
       "       [ 7.00000000e-01,  6.99959221e-01,  6.99551924e-01,\n",
       "         6.95526667e-01,  6.85226998e-01,  6.71213332e-01,\n",
       "         6.54615537e-01,  6.38809509e-01,  6.20576163e-01,\n",
       "         6.03130903e-01,  5.86388792e-01,  5.70296400e-01,\n",
       "         5.54816100e-01,  5.39918454e-01,  5.25578473e-01,\n",
       "         5.08626874e-01,  4.92450964e-01,  4.72697105e-01,\n",
       "         4.49622426e-01,  4.20879036e-01,  3.84634068e-01,\n",
       "         3.29636059e-01,  2.43965646e-01,  1.91943565e-01,\n",
       "         1.70221673e-01,  1.59446841e-01,  1.55714132e-01,\n",
       "         1.54779698e-01,  1.54654751e-01,  1.54649657e-01,\n",
       "         1.54649477e-01],\n",
       "       [ 1.00000000e+00,  9.98656063e-01,  9.85323950e-01,\n",
       "         8.62101517e-01,  6.08636257e-01,  3.73633713e-01,\n",
       "         2.05331185e-01,  1.13738067e-01,  5.61046384e-02,\n",
       "         2.77978829e-02,  1.38148955e-02,  6.88171977e-03,\n",
       "         3.43473878e-03,  1.71728611e-03,  8.59971841e-04,\n",
       "         3.67187317e-04,  1.57105738e-04,  5.27539372e-05,\n",
       "         1.34939728e-05,  2.14195584e-06,  1.62627821e-07,\n",
       "         3.46644511e-09, -2.56443194e-09, -3.16738940e-10,\n",
       "        -1.69973331e-11, -2.55256322e-11, -3.60892536e-11,\n",
       "        -3.24716956e-11, -2.60125307e-11, -1.54257830e-11,\n",
       "        -1.25504779e-13]])"
      ]
     },
     "execution_count": 13,
     "metadata": {},
     "output_type": "execute_result"
    }
   ],
   "source": [
    "solution_RADAU = integrate.solve_ivp(\n",
    "    lambda t, X: coffee(t, X, alpha, beta), \n",
    "    t_span=(t0, tmax), \n",
    "    y0=(c_h0, c_v0, psi_s0,), \n",
    "    method='Radau'\n",
    ")\n",
    "\n",
    "solution_RADAU"
   ]
  },
  {
   "cell_type": "markdown",
   "metadata": {},
   "source": [
    "Gathering the solutions:"
   ]
  },
  {
   "cell_type": "code",
   "execution_count": 14,
   "metadata": {
    "ExecuteTime": {
     "end_time": "2019-04-26T19:44:02.309056Z",
     "start_time": "2019-04-26T19:44:02.306210Z"
    }
   },
   "outputs": [],
   "source": [
    "times, variables = solution_RADAU.t, solution_RADAU.y"
   ]
  },
  {
   "cell_type": "markdown",
   "metadata": {},
   "source": [
    "Separating the solutions:"
   ]
  },
  {
   "cell_type": "code",
   "execution_count": 15,
   "metadata": {
    "ExecuteTime": {
     "end_time": "2019-04-26T19:44:02.322531Z",
     "start_time": "2019-04-26T19:44:02.310806Z"
    }
   },
   "outputs": [],
   "source": [
    "c_h, c_v, psi_s = variables"
   ]
  },
  {
   "cell_type": "markdown",
   "metadata": {},
   "source": [
    "Plotting the solutions:"
   ]
  },
  {
   "cell_type": "code",
   "execution_count": 16,
   "metadata": {
    "ExecuteTime": {
     "end_time": "2019-04-26T19:44:02.566194Z",
     "start_time": "2019-04-26T19:44:02.325279Z"
    }
   },
   "outputs": [
    {
     "data": {
      "image/png": "[encoded data removed]",
      "text/plain": [
       "<Figure size 432x288 with 1 Axes>"
      ]
     },
     "metadata": {
      "needs_background": "light"
     },
     "output_type": "display_data"
    }
   ],
   "source": [
    "plt.plot(times, c_h, label='Simulated')\n",
    "plt.plot(exp_data.t, exp_data.c_h, 'o-', label='Experimental')\n",
    "plt.xlabel('Time [s]')\n",
    "plt.ylabel(r'$c_h$ [kg/m$^3$]')\n",
    "plt.grid(True, linestyle='--')\n",
    "plt.xlim([0, 500])\n",
    "# plt.ylim([0, 2.2])\n",
    "plt.legend()\n",
    "plt.savefig('calibration_model2.png')\n",
    "plt.show()"
   ]
  }
 ],
 "metadata": {
  "kernelspec": {
   "display_name": "Python 3",
   "language": "python",
   "name": "python3"
  },
  "language_info": {
   "codemirror_mode": {
    "name": "ipython",
    "version": 3
   },
   "file_extension": ".py",
   "mimetype": "text/x-python",
   "name": "python",
   "nbconvert_exporter": "python",
   "pygments_lexer": "ipython3",
   "version": "3.6.7"
  },
  "toc": {
   "base_numbering": 1,
   "nav_menu": {},
   "number_sections": true,
   "sideBar": true,
   "skip_h1_title": false,
   "title_cell": "Table of Contents",
   "title_sidebar": "Contents",
   "toc_cell": false,
   "toc_position": {},
   "toc_section_display": true,
   "toc_window_display": false
  }
 },
 "nbformat": 4,
 "nbformat_minor": 2
}
