{
 "cells": [
  {
   "cell_type": "markdown",
   "metadata": {},
   "source": [
    "# Designing an optimal Coffee extraction with Python"
   ]
  },
  {
   "cell_type": "markdown",
   "metadata": {},
   "source": [
    "Necessary libs:"
   ]
  },
  {
   "cell_type": "code",
   "execution_count": 1,
   "metadata": {
    "ExecuteTime": {
     "end_time": "2019-04-25T21:41:06.111140Z",
     "start_time": "2019-04-25T21:41:06.005928Z"
    }
   },
   "outputs": [],
   "source": [
    "import scipy.integrate as integrate\n",
    "from scipy.optimize import differential_evolution\n",
    "import numpy as np\n",
    "import pandas as pd\n",
    "\n",
    "import matplotlib.pyplot as plt\n",
    "from mpl_toolkits.mplot3d import Axes3D"
   ]
  },
  {
   "cell_type": "markdown",
   "metadata": {},
   "source": [
    "## Solving the ODE"
   ]
  },
  {
   "cell_type": "markdown",
   "metadata": {},
   "source": [
    "Model data:"
   ]
  },
  {
   "cell_type": "code",
   "execution_count": 2,
   "metadata": {},
   "outputs": [],
   "source": [
    "phi_h = 0.8272\n",
    "k_sv1 = 27.35e-6\n",
    "k_sv2 = 322.49e-6\n",
    "l_l = 282e-6\n",
    "D_h = D_v = 2.2e-9\n",
    "m = 30e-6\n",
    "c_sat = 212.4\n",
    "c_s = 1400.0\n",
    "kappa = 3.1\n",
    "phi_c0 = 0.143435\n",
    "alpha = 0.1833\n",
    "beta = 0.0447\n",
    "r_s = 16.94"
   ]
  },
  {
   "cell_type": "markdown",
   "metadata": {},
   "source": [
    "Initial conditions:"
   ]
  },
  {
   "cell_type": "code",
   "execution_count": 3,
   "metadata": {},
   "outputs": [],
   "source": [
    "c_h0 = 0.\n",
    "c_v0 = 183.43\n",
    "phi_v0 = 0.6444\n",
    "psi_s0 = 1"
   ]
  },
  {
   "cell_type": "markdown",
   "metadata": {},
   "source": [
    "EDO's system right-hand-side (RHS):"
   ]
  },
  {
   "cell_type": "code",
   "execution_count": 4,
   "metadata": {},
   "outputs": [],
   "source": [
    "def coffee(t, X, alpha, beta):\n",
    "    #Variables\n",
    "    c_h, c_v, phi_v, psi_s = X\n",
    "    \n",
    "    # Coffee's desorption parameters\n",
    "    desorption_1 = alpha * phi_v ** (4. / 3.) * D_v * 6. / (k_sv2 * l_l)\n",
    "    desorption_2 = beta * 12. * D_h * phi_c0 / (k_sv1 * m)\n",
    "    \n",
    "    # Time derivatives\n",
    "    # c_h\n",
    "    c_h_prime = - (1. - phi_h) * desorption_1 * (c_h - c_v) + (1 - phi_h) * desorption_2 * (c_sat - c_h) * psi_s\n",
    "    c_h_prime = (1. / phi_h) * c_h_prime\n",
    "    # c_v\n",
    "    c_v_prime = - desorption_1 * (c_h - c_v) - (c_v / c_s) * desorption_2 * (c_sat - c_h) * psi_s\n",
    "    c_v_prime = (1. / phi_v) * c_v_prime\n",
    "    # psi_s\n",
    "    psi_s_prime = - (r_s / c_s) * desorption_2 * (c_sat - c_h) * psi_s\n",
    "    # phi_v\n",
    "    phi_v_prime = - (1. / r_s) * psi_s_prime\n",
    "    return c_h_prime, c_v_prime, phi_v_prime, psi_s_prime"
   ]
  },
  {
   "cell_type": "code",
   "execution_count": 5,
   "metadata": {},
   "outputs": [],
   "source": [
    "def coffee(t, X, alpha, beta):\n",
    "    #Variables\n",
    "    c_h, c_v, phi_v, psi_s = X\n",
    "    \n",
    "    # Coffee's desorption parameters\n",
    "    desorption_1 = alpha * phi_v ** (4. / 3.) * D_v * 6. / (k_sv2 * l_l)\n",
    "    desorption_2 = beta * 12. * D_h * phi_c0 / (k_sv1 * m)\n",
    "    \n",
    "    # Time derivatives\n",
    "    # c_h\n",
    "    c_h_prime = - (1. - phi_h) * desorption_1 * (c_h - c_v) + (1 - phi_h) * desorption_2 * (c_sat - c_h) * psi_s\n",
    "    c_h_prime = (1. / phi_h) * c_h_prime\n",
    "    # psi_s\n",
    "    psi_s_prime = - (r_s / c_s) * desorption_2 * (c_sat - c_h) * psi_s\n",
    "    # c_v\n",
    "    c_v_prime = - desorption_1 * (c_h - c_v) + (c_v / r_s) * psi_s_prime\n",
    "    c_v_prime = (1. / phi_v) * c_v_prime\n",
    "    # phi_v\n",
    "    phi_v_prime = - (1. / r_s) * psi_s_prime\n",
    "    return c_h_prime, c_v_prime, phi_v_prime, psi_s_prime"
   ]
  },
  {
   "cell_type": "markdown",
   "metadata": {},
   "source": [
    "Time step parameters:"
   ]
  },
  {
   "cell_type": "code",
   "execution_count": 6,
   "metadata": {},
   "outputs": [],
   "source": [
    "t0 = 0  # tempo inicial\n",
    "tmax = 600. # tempo máximo"
   ]
  },
  {
   "cell_type": "markdown",
   "metadata": {},
   "source": [
    "Solving with RADAU IIA method:"
   ]
  },
  {
   "cell_type": "code",
   "execution_count": 7,
   "metadata": {},
   "outputs": [
    {
     "data": {
      "text/plain": [
       "  message: 'The solver successfully reached the end of the integration interval.'\n",
       "     nfev: 2903\n",
       "     njev: 95\n",
       "      nlu: 552\n",
       "      sol: None\n",
       "   status: 0\n",
       "  success: True\n",
       "        t: array([0.00000000e+00, 1.78030185e-04, 1.95833204e-03, 1.97613505e-02,\n",
       "       1.97791536e-01, 8.32474757e-01, 1.79121140e+00, 3.01774108e+00,\n",
       "       4.24427075e+00, 5.75169475e+00, 7.25911875e+00, 8.76654275e+00,\n",
       "       1.02739668e+01, 1.17813908e+01, 1.32888148e+01, 1.47962388e+01,\n",
       "       1.66997044e+01, 1.86031700e+01, 2.11173370e+01, 2.43245108e+01,\n",
       "       2.88107771e+01, 3.52439324e+01, 4.84456501e+01, 7.86247886e+01,\n",
       "       1.04090286e+02, 1.19602111e+02, 1.25941882e+02, 1.32281654e+02,\n",
       "       1.32790814e+02, 1.35798833e+02, 1.36939023e+02, 1.38800152e+02,\n",
       "       1.39869523e+02, 1.41178848e+02, 1.42488173e+02, 1.43479506e+02,\n",
       "       1.44470840e+02, 1.45462173e+02, 1.46453506e+02, 1.47444840e+02,\n",
       "       1.48436173e+02, 1.49427507e+02, 1.50165656e+02, 1.50903806e+02,\n",
       "       1.51641956e+02, 1.52079284e+02, 1.52516612e+02, 1.52953940e+02,\n",
       "       1.53284184e+02, 1.53470121e+02, 1.53699917e+02, 1.53808034e+02,\n",
       "       1.53958390e+02, 1.54012243e+02, 1.54111504e+02, 1.54163821e+02,\n",
       "       1.54230637e+02, 1.54256853e+02, 1.54299894e+02, 1.54322458e+02,\n",
       "       1.54351331e+02, 1.54362612e+02, 1.54381256e+02, 1.54391032e+02,\n",
       "       1.54403555e+02, 1.54408442e+02, 1.54416552e+02, 1.54420651e+02,\n",
       "       1.54426072e+02, 1.54428001e+02, 1.54431372e+02, 1.54434744e+02,\n",
       "       1.54436784e+02, 1.54437897e+02, 1.54439304e+02, 1.54439957e+02,\n",
       "       1.54440870e+02, 1.54441194e+02, 1.54441797e+02, 1.54442120e+02,\n",
       "       1.54442529e+02, 1.54442693e+02, 1.54442958e+02, 1.54443099e+02,\n",
       "       1.54443278e+02, 1.54443349e+02, 1.54443465e+02, 1.54443527e+02,\n",
       "       1.54443605e+02, 1.54443637e+02, 1.54443688e+02, 1.54443715e+02,\n",
       "       1.54443750e+02, 1.54443764e+02, 1.54443786e+02, 1.54443799e+02,\n",
       "       1.54443814e+02, 1.54443820e+02, 1.54443830e+02, 1.54443836e+02,\n",
       "       1.54443843e+02, 1.54443846e+02, 1.54443851e+02, 1.54443853e+02,\n",
       "       1.54443856e+02, 1.54443858e+02, 1.54443860e+02, 1.54443862e+02,\n",
       "       1.54443863e+02, 1.54443864e+02, 1.54443865e+02, 1.54443866e+02,\n",
       "       1.54443867e+02, 1.54443868e+02, 1.54443868e+02, 1.54443869e+02,\n",
       "       1.54443870e+02, 1.54443870e+02, 1.54443871e+02, 1.54443871e+02,\n",
       "       1.54443872e+02, 1.54443872e+02, 1.54443873e+02, 1.54443873e+02,\n",
       "       1.54443874e+02, 1.54443874e+02, 1.54443875e+02, 1.54443875e+02,\n",
       "       1.54443876e+02, 1.54443876e+02, 1.54443877e+02, 1.54443877e+02,\n",
       "       1.54443878e+02, 1.54443879e+02, 1.54443880e+02, 1.54443882e+02,\n",
       "       1.54443885e+02, 1.54443892e+02, 1.54443919e+02, 1.54444103e+02,\n",
       "       1.54445940e+02, 1.54455125e+02, 1.54458747e+02, 1.54460108e+02,\n",
       "       1.54461469e+02, 1.54464595e+02, 1.54467642e+02, 1.54469070e+02,\n",
       "       1.54469918e+02, 1.54470661e+02, 1.54471124e+02, 1.54471335e+02,\n",
       "       1.54471546e+02, 1.54471732e+02, 1.54471844e+02, 1.54471879e+02,\n",
       "       1.54471934e+02, 1.54471993e+02, 1.54472026e+02, 1.54472046e+02,\n",
       "       1.54472066e+02, 1.54472081e+02, 1.54472090e+02, 1.54472098e+02,\n",
       "       1.54472107e+02, 1.54472114e+02, 1.54472121e+02, 1.54472125e+02,\n",
       "       1.54472130e+02, 1.54472133e+02, 1.54472136e+02, 1.54472140e+02,\n",
       "       1.54472141e+02, 1.54472143e+02, 1.54472144e+02, 1.54472146e+02,\n",
       "       1.54472148e+02, 1.54472150e+02, 1.54472151e+02, 1.54472153e+02,\n",
       "       1.54472154e+02, 1.54472156e+02, 1.54472157e+02, 1.54472159e+02,\n",
       "       1.54472160e+02, 1.54472162e+02, 1.54472163e+02, 1.54472165e+02,\n",
       "       1.54472166e+02, 1.54472168e+02, 1.54472169e+02, 1.54472170e+02,\n",
       "       1.54472172e+02, 1.54472173e+02, 1.54472175e+02, 1.54472176e+02,\n",
       "       1.54472178e+02, 1.54472179e+02, 1.54472181e+02, 1.54472183e+02,\n",
       "       1.54472184e+02, 1.54472186e+02, 1.54472188e+02, 1.54472189e+02,\n",
       "       1.54472191e+02, 1.54472193e+02, 1.54472194e+02, 1.54472196e+02,\n",
       "       1.54472198e+02, 1.54472200e+02, 1.54472201e+02, 1.54472203e+02,\n",
       "       1.54472205e+02, 1.54472208e+02, 1.54472211e+02, 1.54472216e+02,\n",
       "       1.54472223e+02, 1.54472236e+02, 1.54472270e+02, 1.54472446e+02,\n",
       "       1.54473956e+02, 1.54489055e+02, 1.54640049e+02, 1.56149987e+02,\n",
       "       1.71249370e+02, 1.86993816e+02, 2.02983986e+02, 2.10979070e+02,\n",
       "       2.17916206e+02, 2.27291683e+02, 2.33512117e+02, 2.41112031e+02,\n",
       "       2.50761713e+02, 2.67234804e+02, 2.79235743e+02, 2.86754145e+02,\n",
       "       2.95152504e+02, 3.03550862e+02, 3.11949220e+02, 3.20644642e+02,\n",
       "       3.28390152e+02, 3.32262907e+02, 3.35691977e+02, 3.41030122e+02,\n",
       "       3.57864980e+02, 3.63884637e+02, 3.67692274e+02, 3.75949802e+02,\n",
       "       3.84207330e+02, 3.92464858e+02, 3.98283276e+02, 4.01316975e+02,\n",
       "       4.04002097e+02, 4.08241488e+02, 4.14604127e+02, 4.28455309e+02,\n",
       "       4.44031382e+02, 4.57524522e+02, 4.71017661e+02, 4.84598529e+02,\n",
       "       4.98453481e+02, 5.12362490e+02, 5.26446749e+02, 5.40261061e+02,\n",
       "       5.48656504e+02, 5.53110776e+02, 5.56059667e+02, 5.62769850e+02,\n",
       "       5.78338106e+02, 5.89169053e+02, 6.00000000e+02])\n",
       " t_events: None\n",
       "        y: array([[ 0.00000000e+00,  1.73049301e-03,  1.90262238e-02, ...,\n",
       "        -8.63266475e+11, -1.07420761e+12, -1.33669099e+12],\n",
       "       [ 1.83430000e+02,  1.83429164e+02,  1.83420819e+02, ...,\n",
       "        -5.87471061e+12, -7.31015854e+12, -9.09639253e+12],\n",
       "       [ 6.44400000e-01,  6.44405572e-01,  6.44461257e-01, ...,\n",
       "         7.03426530e-01,  7.03426530e-01,  7.03426530e-01],\n",
       "       [ 1.00000000e+00,  9.99905616e-01,  9.98962306e-01, ...,\n",
       "        -4.82191748e-14, -2.36904628e-14, -1.41720377e-14]])"
      ]
     },
     "execution_count": 7,
     "metadata": {},
     "output_type": "execute_result"
    }
   ],
   "source": [
    "solution_RADAU = integrate.solve_ivp(\n",
    "    lambda t, X: coffee(t, X, alpha, beta), \n",
    "    t_span=(t0, tmax), \n",
    "    y0=(c_h0, c_v0, phi_v0, psi_s0,), \n",
    "    method='Radau'\n",
    ")\n",
    "\n",
    "solution_RADAU"
   ]
  },
  {
   "cell_type": "markdown",
   "metadata": {},
   "source": [
    "Gathering the solutions:"
   ]
  },
  {
   "cell_type": "code",
   "execution_count": 8,
   "metadata": {},
   "outputs": [],
   "source": [
    "times, variables = solution_RADAU.t, solution_RADAU.y"
   ]
  },
  {
   "cell_type": "markdown",
   "metadata": {},
   "source": [
    "Separating the solutions:"
   ]
  },
  {
   "cell_type": "code",
   "execution_count": 9,
   "metadata": {},
   "outputs": [],
   "source": [
    "c_h, c_v, phi_v, psi_s = variables"
   ]
  },
  {
   "cell_type": "markdown",
   "metadata": {},
   "source": [
    "Plotting the solutions:"
   ]
  },
  {
   "cell_type": "code",
   "execution_count": 10,
   "metadata": {},
   "outputs": [
    {
     "data": {
      "image/png": "[encoded data removed]",
      "text/plain": [
       "<Figure size 432x288 with 1 Axes>"
      ]
     },
     "metadata": {
      "needs_background": "light"
     },
     "output_type": "display_data"
    }
   ],
   "source": [
    "plt.plot(times, c_h)\n",
    "plt.show()"
   ]
  },
  {
   "cell_type": "markdown",
   "metadata": {},
   "source": [
    "## Calibration:"
   ]
  },
  {
   "cell_type": "markdown",
   "metadata": {},
   "source": [
    "Reading the data from experimental measures:"
   ]
  },
  {
   "cell_type": "code",
   "execution_count": 11,
   "metadata": {},
   "outputs": [
    {
     "data": {
      "text/html": [
       "<div>\n",
       "<style scoped>\n",
       "    .dataframe tbody tr th:only-of-type {\n",
       "        vertical-align: middle;\n",
       "    }\n",
       "\n",
       "    .dataframe tbody tr th {\n",
       "        vertical-align: top;\n",
       "    }\n",
       "\n",
       "    .dataframe thead th {\n",
       "        text-align: right;\n",
       "    }\n",
       "</style>\n",
       "<table border=\"1\" class=\"dataframe\">\n",
       "  <thead>\n",
       "    <tr style=\"text-align: right;\">\n",
       "      <th></th>\n",
       "      <th>t</th>\n",
       "      <th>c_h</th>\n",
       "    </tr>\n",
       "  </thead>\n",
       "  <tbody>\n",
       "    <tr>\n",
       "      <th>0</th>\n",
       "      <td>33.802817</td>\n",
       "      <td>29.047619</td>\n",
       "    </tr>\n",
       "    <tr>\n",
       "      <th>1</th>\n",
       "      <td>49.295775</td>\n",
       "      <td>31.904762</td>\n",
       "    </tr>\n",
       "    <tr>\n",
       "      <th>2</th>\n",
       "      <td>87.323944</td>\n",
       "      <td>34.523810</td>\n",
       "    </tr>\n",
       "    <tr>\n",
       "      <th>3</th>\n",
       "      <td>147.887324</td>\n",
       "      <td>36.309524</td>\n",
       "    </tr>\n",
       "    <tr>\n",
       "      <th>4</th>\n",
       "      <td>349.295775</td>\n",
       "      <td>36.428571</td>\n",
       "    </tr>\n",
       "    <tr>\n",
       "      <th>5</th>\n",
       "      <td>498.591549</td>\n",
       "      <td>36.428571</td>\n",
       "    </tr>\n",
       "  </tbody>\n",
       "</table>\n",
       "</div>"
      ],
      "text/plain": [
       "            t        c_h\n",
       "0   33.802817  29.047619\n",
       "1   49.295775  31.904762\n",
       "2   87.323944  34.523810\n",
       "3  147.887324  36.309524\n",
       "4  349.295775  36.428571\n",
       "5  498.591549  36.428571"
      ]
     },
     "execution_count": 11,
     "metadata": {},
     "output_type": "execute_result"
    }
   ],
   "source": [
    "exp_data = pd.read_csv('../data/coffee_conc.csv', decimal=\",\")\n",
    "\n",
    "exp_data"
   ]
  },
  {
   "cell_type": "code",
   "execution_count": 12,
   "metadata": {},
   "outputs": [
    {
     "data": {
      "image/png": "[encoded data removed]",
      "text/plain": [
       "<Figure size 432x288 with 1 Axes>"
      ]
     },
     "metadata": {
      "needs_background": "light"
     },
     "output_type": "display_data"
    }
   ],
   "source": [
    "plt.plot(exp_data.t, exp_data.c_h, 'o-')\n",
    "plt.xlabel('Time [s]')\n",
    "plt.ylabel(r'$c_h$ [kg/m$^3$]')\n",
    "plt.grid(True, linestyle='--')\n",
    "plt.xlim([0, 500])\n",
    "plt.ylim([0, 40])\n",
    "plt.show()"
   ]
  },
  {
   "cell_type": "markdown",
   "metadata": {},
   "source": [
    "Calibration objective function:"
   ]
  },
  {
   "cell_type": "code",
   "execution_count": 13,
   "metadata": {},
   "outputs": [],
   "source": [
    "def coffee_solution(x, t_eval=[]):\n",
    "    if len(x) > 2:\n",
    "        raise ValueError('x must have length equal to 2: alpha and beta parameters')\n",
    "        \n",
    "    # Getting fitting parameters\n",
    "    alpha, beta = x\n",
    "    \n",
    "    # Solving the ODE system\n",
    "    if len(t_eval) == 0:\n",
    "        raise ValueError(\"Please provide times to evaluate the function\")\n",
    "    else:\n",
    "        try:\n",
    "            solution_RADAU = integrate.solve_ivp(\n",
    "                lambda t, X: coffee(t, X, alpha, beta), \n",
    "                t_span=(0, t_eval.max()), \n",
    "                y0=(c_h0, c_v0, phi_v0, psi_s0,), \n",
    "                method='Radau',\n",
    "                t_eval=t_eval.values\n",
    "            )\n",
    "        except:\n",
    "            return np.array([np.inf] * len(t_eval))\n",
    "    \n",
    "    c_h, c_v, phi_v, psi_s = solution_RADAU.y\n",
    "    \n",
    "    if len(c_h) != len(t_eval):\n",
    "        c_h = np.array([np.inf] * len(t_eval))\n",
    "    \n",
    "    return c_h"
   ]
  },
  {
   "cell_type": "code",
   "execution_count": 14,
   "metadata": {},
   "outputs": [],
   "source": [
    "def calibration_least_square(pars, exp_data):\n",
    "    residual = exp_data.c_h.values - coffee_solution(pars, t_eval=exp_data.t)\n",
    "    least_squares_evaluation = np.sum(residual ** 2.0)\n",
    "    return least_squares_evaluation"
   ]
  },
  {
   "cell_type": "markdown",
   "metadata": {},
   "source": [
    "Fitting by least square minimization:"
   ]
  },
  {
   "cell_type": "code",
   "execution_count": 15,
   "metadata": {},
   "outputs": [
    {
     "name": "stderr",
     "output_type": "stream",
     "text": [
      "/home/volps/miniconda3/envs/coffeebreak/lib/python3.7/site-packages/ipykernel_launcher.py:6: RuntimeWarning: invalid value encountered in double_scalars\n",
      "  \n",
      "/home/volps/miniconda3/envs/coffeebreak/lib/python3.7/site-packages/scipy/integrate/_ivp/common.py:333: RuntimeWarning: invalid value encountered in less\n",
      "  diff_too_small = max_diff < NUM_JAC_DIFF_REJECT * scale\n",
      "/home/volps/miniconda3/envs/coffeebreak/lib/python3.7/site-packages/scipy/integrate/_ivp/common.py:358: RuntimeWarning: invalid value encountered in less\n",
      "  factor[max_diff < NUM_JAC_DIFF_SMALL * scale] *= NUM_JAC_FACTOR_INCREASE\n",
      "/home/volps/miniconda3/envs/coffeebreak/lib/python3.7/site-packages/scipy/integrate/_ivp/common.py:359: RuntimeWarning: invalid value encountered in greater\n",
      "  factor[max_diff > NUM_JAC_DIFF_BIG * scale] *= NUM_JAC_FACTOR_DECREASE\n"
     ]
    },
    {
     "name": "stdout",
     "output_type": "stream",
     "text": [
      "differential_evolution step 1: f(x)= 703.646\n",
      "differential_evolution step 2: f(x)= 703.646\n",
      "differential_evolution step 3: f(x)= 695.452\n",
      "differential_evolution step 4: f(x)= 694.879\n",
      "differential_evolution step 5: f(x)= 694.879\n",
      "differential_evolution step 6: f(x)= 694.879\n",
      "differential_evolution step 7: f(x)= 694.879\n",
      "differential_evolution step 8: f(x)= 694.879\n",
      "differential_evolution step 9: f(x)= 694.879\n",
      "differential_evolution step 10: f(x)= 694.879\n",
      "differential_evolution step 11: f(x)= 694.879\n",
      "differential_evolution step 12: f(x)= 694.879\n",
      "differential_evolution step 13: f(x)= 694.879\n",
      "differential_evolution step 14: f(x)= 694.879\n",
      "differential_evolution step 15: f(x)= 694.811\n",
      "differential_evolution step 16: f(x)= 694.811\n",
      "differential_evolution step 17: f(x)= 694.571\n",
      "differential_evolution step 18: f(x)= 694.083\n",
      "differential_evolution step 19: f(x)= 694.004\n",
      "differential_evolution step 20: f(x)= 693.95\n",
      "differential_evolution step 21: f(x)= 693.95\n",
      "differential_evolution step 22: f(x)= 693.95\n",
      "differential_evolution step 23: f(x)= 693.95\n",
      "differential_evolution step 24: f(x)= 693.95\n",
      "differential_evolution step 25: f(x)= 693.95\n",
      "differential_evolution step 26: f(x)= 693.95\n",
      "differential_evolution step 27: f(x)= 693.934\n",
      "differential_evolution step 28: f(x)= 693.934\n",
      "differential_evolution step 29: f(x)= 693.93\n",
      "differential_evolution step 30: f(x)= 693.924\n",
      "differential_evolution step 31: f(x)= 693.924\n",
      "differential_evolution step 32: f(x)= 693.924\n",
      "differential_evolution step 33: f(x)= 693.913\n",
      "differential_evolution step 34: f(x)= 693.913\n",
      "differential_evolution step 35: f(x)= 693.913\n",
      "differential_evolution step 36: f(x)= 693.913\n",
      "differential_evolution step 37: f(x)= 693.913\n",
      "differential_evolution step 38: f(x)= 693.913\n",
      "differential_evolution step 39: f(x)= 693.913\n"
     ]
    }
   ],
   "source": [
    "bounds = [(0, 1), (0, 1)]\n",
    "result = differential_evolution(\n",
    "    calibration_least_square,\n",
    "    bounds=bounds,\n",
    "    args=(exp_data,),\n",
    "    disp=True,\n",
    "    popsize=70,\n",
    "    strategy='best2exp',\n",
    "    tol=1e-5,\n",
    "    recombination=0.9,\n",
    "    mutation=0.5,\n",
    "    maxiter=50\n",
    ")"
   ]
  },
  {
   "cell_type": "code",
   "execution_count": 16,
   "metadata": {},
   "outputs": [
    {
     "data": {
      "text/plain": [
       "(0.012557390860028605, 0.022403094292317127)"
      ]
     },
     "execution_count": 16,
     "metadata": {},
     "output_type": "execute_result"
    }
   ],
   "source": [
    "alpha, beta = result.x\n",
    "\n",
    "alpha, beta"
   ]
  },
  {
   "cell_type": "code",
   "execution_count": 17,
   "metadata": {},
   "outputs": [],
   "source": [
    "solution_RADAU = integrate.solve_ivp(\n",
    "            lambda t, X: coffee(t, X, alpha, beta), \n",
    "            t_span=(t0, tmax), \n",
    "            y0=(c_h0, c_v0, phi_v0, psi_s0,), \n",
    "            method='Radau'\n",
    "        )\n",
    "\n",
    "time = solution_RADAU.t\n",
    "c_h, c_v, phi_v, psi_s = solution_RADAU.y"
   ]
  },
  {
   "cell_type": "code",
   "execution_count": 18,
   "metadata": {},
   "outputs": [
    {
     "data": {
      "image/png": "[encoded data removed]",
      "text/plain": [
       "<Figure size 432x288 with 1 Axes>"
      ]
     },
     "metadata": {
      "needs_background": "light"
     },
     "output_type": "display_data"
    }
   ],
   "source": [
    "plt.plot(time, c_h, label='Simulated')\n",
    "plt.plot(exp_data.t, exp_data.c_h, 'o-', label='Experimental')\n",
    "plt.xlabel('Time [s]')\n",
    "plt.ylabel(r'$c_h$ [kg/m$^3$]')\n",
    "plt.grid(True, linestyle='--')\n",
    "plt.xlim([0, 500])\n",
    "plt.ylim([0, 40])\n",
    "plt.show()"
   ]
  },
  {
   "cell_type": "code",
   "execution_count": 19,
   "metadata": {},
   "outputs": [
    {
     "name": "stdout",
     "output_type": "stream",
     "text": [
      "differential_evolution step 1: f(x)= 694.991\n",
      "differential_evolution step 2: f(x)= 694.991\n",
      "differential_evolution step 3: f(x)= 694.829\n",
      "differential_evolution step 4: f(x)= 694.026\n",
      "differential_evolution step 5: f(x)= 693.969\n",
      "differential_evolution step 6: f(x)= 693.937\n",
      "differential_evolution step 7: f(x)= 693.937\n",
      "differential_evolution step 8: f(x)= 693.931\n",
      "differential_evolution step 9: f(x)= 693.931\n",
      "differential_evolution step 10: f(x)= 693.931\n",
      "differential_evolution step 11: f(x)= 693.931\n",
      "differential_evolution step 12: f(x)= 693.931\n",
      "differential_evolution step 13: f(x)= 693.928\n",
      "differential_evolution step 14: f(x)= 693.928\n",
      "differential_evolution step 15: f(x)= 693.926\n",
      "differential_evolution step 16: f(x)= 693.926\n",
      "differential_evolution step 17: f(x)= 693.926\n",
      "differential_evolution step 18: f(x)= 693.926\n",
      "differential_evolution step 19: f(x)= 693.917\n"
     ]
    },
    {
     "name": "stderr",
     "output_type": "stream",
     "text": [
      "/home/volps/miniconda3/envs/coffeebreak/lib/python3.7/site-packages/scipy/optimize/optimize.py:670: RuntimeWarning: invalid value encountered in double_scalars\n",
      "  grad[k] = (f(*((xk + d,) + args)) - f0) / d[k]\n"
     ]
    }
   ],
   "source": [
    "bounds = [(-alpha, alpha), (-beta, beta)]\n",
    "result = differential_evolution(\n",
    "    calibration_least_square,\n",
    "    bounds=bounds,\n",
    "    args=(exp_data,),\n",
    "    disp=True,\n",
    "    popsize=70,\n",
    "    strategy='best2bin',\n",
    "    tol=1e-5,\n",
    "    recombination=0.9,\n",
    "    mutation=0.5,\n",
    "    maxiter=50\n",
    ")"
   ]
  },
  {
   "cell_type": "code",
   "execution_count": 21,
   "metadata": {},
   "outputs": [],
   "source": [
    "alpha, beta = result.x"
   ]
  },
  {
   "cell_type": "code",
   "execution_count": 22,
   "metadata": {},
   "outputs": [],
   "source": [
    "solution_RADAU = integrate.solve_ivp(\n",
    "            lambda t, X: coffee(t, X, alpha, beta), \n",
    "            t_span=(t0, tmax), \n",
    "            y0=(c_h0, c_v0, phi_v0, psi_s0,), \n",
    "            method='Radau'\n",
    "        )\n",
    "\n",
    "time = solution_RADAU.t\n",
    "c_h, c_v, phi_v, psi_s = solution_RADAU.y"
   ]
  },
  {
   "cell_type": "code",
   "execution_count": 23,
   "metadata": {},
   "outputs": [
    {
     "data": {
      "image/png": "[encoded data removed]",
      "text/plain": [
       "<Figure size 432x288 with 1 Axes>"
      ]
     },
     "metadata": {
      "needs_background": "light"
     },
     "output_type": "display_data"
    }
   ],
   "source": [
    "plt.plot(time, c_h, label='Simulated')\n",
    "plt.plot(exp_data.t, exp_data.c_h, 'o-', label='Experimental')\n",
    "plt.xlabel('Time [s]')\n",
    "plt.ylabel(r'$c_h$ [kg/m$^3$]')\n",
    "plt.grid(True, linestyle='--')\n",
    "plt.xlim([0, 500])\n",
    "plt.ylim([0, 40])\n",
    "plt.show()"
   ]
  }
 ],
 "metadata": {
  "kernelspec": {
   "display_name": "Python 3",
   "language": "python",
   "name": "python3"
  },
  "language_info": {
   "codemirror_mode": {
    "name": "ipython",
    "version": 3
   },
   "file_extension": ".py",
   "mimetype": "text/x-python",
   "name": "python",
   "nbconvert_exporter": "python",
   "pygments_lexer": "ipython3",
   "version": "3.6.7"
  },
  "toc": {
   "base_numbering": 1,
   "nav_menu": {},
   "number_sections": true,
   "sideBar": true,
   "skip_h1_title": false,
   "title_cell": "Table of Contents",
   "title_sidebar": "Contents",
   "toc_cell": false,
   "toc_position": {},
   "toc_section_display": true,
   "toc_window_display": false
  }
 },
 "nbformat": 4,
 "nbformat_minor": 2
}
