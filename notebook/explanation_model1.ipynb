{
 "cells": [
  {
   "cell_type": "markdown",
   "metadata": {},
   "source": [
    "# Designing an optimal Coffee extraction with Python"
   ]
  },
  {
   "cell_type": "markdown",
   "metadata": {},
   "source": [
    "Necessary libs:"
   ]
  },
  {
   "cell_type": "code",
   "execution_count": 26,
   "metadata": {
    "ExecuteTime": {
     "end_time": "2019-04-26T18:00:53.704397Z",
     "start_time": "2019-04-26T18:00:53.698976Z"
    }
   },
   "outputs": [],
   "source": [
    "import scipy.integrate as integrate\n",
    "from scipy.optimize import differential_evolution\n",
    "import numpy as np\n",
    "import pandas as pd\n",
    "\n",
    "import matplotlib.pyplot as plt\n",
    "from mpl_toolkits.mplot3d import Axes3D"
   ]
  },
  {
   "cell_type": "markdown",
   "metadata": {},
   "source": [
    "## Solving the ODE"
   ]
  },
  {
   "cell_type": "markdown",
   "metadata": {},
   "source": [
    "Model data:"
   ]
  },
  {
   "cell_type": "code",
   "execution_count": 37,
   "metadata": {
    "ExecuteTime": {
     "end_time": "2019-04-26T18:43:49.384009Z",
     "start_time": "2019-04-26T18:43:49.376383Z"
    }
   },
   "outputs": [],
   "source": [
    "phi_h = 0.8272\n",
    "k_sv1 = 27.35e-6\n",
    "k_sv2 = 322.49e-6\n",
    "l_l = 282e-6\n",
    "D_h = D_v = 2.2e-9\n",
    "m = 30e-6\n",
    "c_sat = 212.4\n",
    "c_s = 1400.0\n",
    "kappa = 3.1\n",
    "phi_c0 = 0.143435\n",
    "alpha = 0.1833\n",
    "beta = 0.0447\n",
    "r_s = 16.94"
   ]
  },
  {
   "cell_type": "markdown",
   "metadata": {},
   "source": [
    "Reduced model parameters:"
   ]
  },
  {
   "cell_type": "code",
   "execution_count": 38,
   "metadata": {
    "ExecuteTime": {
     "end_time": "2019-04-26T18:43:49.939084Z",
     "start_time": "2019-04-26T18:43:49.933783Z"
    }
   },
   "outputs": [
    {
     "data": {
      "text/plain": [
       "0.04334393413534981"
      ]
     },
     "execution_count": 38,
     "metadata": {},
     "output_type": "execute_result"
    }
   ],
   "source": [
    "phi_v_inf = 0.6444\n",
    "phi_cd = 0.143435\n",
    "numerator = alpha * D_v * k_sv1 * m * phi_v_inf ** (1. / 3.) * c_s\n",
    "denominator = 2 * beta * D_h * k_sv2 * l_l * phi_cd * c_sat * r_s\n",
    "eps = numerator / denominator\n",
    "\n",
    "eps"
   ]
  },
  {
   "cell_type": "code",
   "execution_count": 39,
   "metadata": {
    "ExecuteTime": {
     "end_time": "2019-04-26T18:43:50.724169Z",
     "start_time": "2019-04-26T18:43:50.717158Z"
    }
   },
   "outputs": [
    {
     "data": {
      "text/plain": [
       "3.1057065385777105"
      ]
     },
     "execution_count": 39,
     "metadata": {},
     "output_type": "execute_result"
    }
   ],
   "source": [
    "numerator = 2 * beta * D_h * k_sv2 * l_l * phi_cd * phi_v_inf ** (2. / 3.) * (1 - phi_h) * c_sat * r_s\n",
    "denominator = alpha * D_v * k_sv1 * m * phi_h * c_s\n",
    "b1 = numerator / denominator\n",
    "\n",
    "b1"
   ]
  },
  {
   "cell_type": "code",
   "execution_count": 40,
   "metadata": {
    "ExecuteTime": {
     "end_time": "2019-04-26T18:43:51.143894Z",
     "start_time": "2019-04-26T18:43:51.139117Z"
    }
   },
   "outputs": [
    {
     "data": {
      "text/plain": [
       "1.8752751641107217"
      ]
     },
     "execution_count": 40,
     "metadata": {},
     "output_type": "execute_result"
    }
   ],
   "source": [
    "numerator = 2 * beta * D_h * k_sv2 * l_l * phi_cd * (1 - phi_h)\n",
    "denominator = alpha * D_v * k_sv1 * m * phi_h * phi_v_inf ** (1. / 3.)\n",
    "b2 = numerator / denominator\n",
    "\n",
    "b2"
   ]
  },
  {
   "cell_type": "markdown",
   "metadata": {},
   "source": [
    "Initial conditions:"
   ]
  },
  {
   "cell_type": "code",
   "execution_count": 3,
   "metadata": {
    "ExecuteTime": {
     "end_time": "2019-04-26T14:35:33.746062Z",
     "start_time": "2019-04-26T14:35:33.730088Z"
    }
   },
   "outputs": [],
   "source": [
    "c_h0 = 0.\n",
    "c_v0 = 183.43\n",
    "phi_v0 = 0.6444\n",
    "psi_s0 = 1"
   ]
  },
  {
   "cell_type": "markdown",
   "metadata": {},
   "source": [
    "EDO's system right-hand-side (RHS):"
   ]
  },
  {
   "cell_type": "code",
   "execution_count": 4,
   "metadata": {
    "ExecuteTime": {
     "end_time": "2019-04-26T14:35:33.760029Z",
     "start_time": "2019-04-26T14:35:33.748200Z"
    }
   },
   "outputs": [],
   "source": [
    "def coffee(t, X, alpha, beta):\n",
    "    #Variables\n",
    "    c_h, c_v, phi_v, psi_s = X\n",
    "    \n",
    "    # Coffee's desorption parameters\n",
    "    desorption_1 = alpha * phi_v ** (4. / 3.) * D_v * 6. / (k_sv2 * l_l)\n",
    "    desorption_2 = beta * 12. * D_h * phi_c0 / (k_sv1 * m)\n",
    "    \n",
    "    # Time derivatives\n",
    "    # c_h\n",
    "    c_h_prime = - (1. - phi_h) * desorption_1 * (c_h - c_v) + (1 - phi_h) * desorption_2 * (c_sat - c_h) * psi_s\n",
    "    c_h_prime = (1. / phi_h) * c_h_prime\n",
    "    # c_v\n",
    "    c_v_prime = - desorption_1 * (c_h - c_v) - (c_v / c_s) * desorption_2 * (c_sat - c_h) * psi_s\n",
    "    c_v_prime = (1. / phi_v) * c_v_prime\n",
    "    # psi_s\n",
    "    psi_s_prime = - (r_s / c_s) * desorption_2 * (c_sat - c_h) * psi_s\n",
    "    # phi_v\n",
    "    phi_v_prime = - (1. / r_s) * psi_s_prime\n",
    "    return c_h_prime, c_v_prime, phi_v_prime, psi_s_prime"
   ]
  },
  {
   "cell_type": "code",
   "execution_count": 5,
   "metadata": {
    "ExecuteTime": {
     "end_time": "2019-04-26T14:35:33.773646Z",
     "start_time": "2019-04-26T14:35:33.761503Z"
    }
   },
   "outputs": [],
   "source": [
    "def coffee(t, X, alpha, beta):\n",
    "    #Variables\n",
    "    c_h, c_v, phi_v, psi_s = X\n",
    "    \n",
    "    # Coffee's desorption parameters\n",
    "    desorption_1 = alpha * phi_v ** (4. / 3.) * D_v * 6. / (k_sv2 * l_l)\n",
    "    desorption_2 = beta * 12. * D_h * phi_c0 / (k_sv1 * m)\n",
    "    \n",
    "    # Time derivatives\n",
    "    # c_h\n",
    "    c_h_prime = - (1. - phi_h) * desorption_1 * (c_h - c_v) + (1 - phi_h) * desorption_2 * (c_sat - c_h) * psi_s\n",
    "    c_h_prime = (1. / phi_h) * c_h_prime\n",
    "    # psi_s\n",
    "    psi_s_prime = - (r_s / c_s) * desorption_2 * (c_sat - c_h) * psi_s\n",
    "    # c_v\n",
    "    c_v_prime = - desorption_1 * (c_h - c_v) + (c_v / r_s) * psi_s_prime\n",
    "    c_v_prime = (1. / phi_v) * c_v_prime\n",
    "    # phi_v\n",
    "    phi_v_prime = - (1. / r_s) * psi_s_prime\n",
    "    return c_h_prime, c_v_prime, phi_v_prime, psi_s_prime"
   ]
  },
  {
   "cell_type": "markdown",
   "metadata": {},
   "source": [
    "Time step parameters:"
   ]
  },
  {
   "cell_type": "code",
   "execution_count": 6,
   "metadata": {
    "ExecuteTime": {
     "end_time": "2019-04-26T14:35:33.789803Z",
     "start_time": "2019-04-26T14:35:33.775390Z"
    }
   },
   "outputs": [],
   "source": [
    "t0 = 0  # tempo inicial\n",
    "tmax = 600. # tempo máximo"
   ]
  },
  {
   "cell_type": "markdown",
   "metadata": {},
   "source": [
    "Solving with RADAU IIA method:"
   ]
  },
  {
   "cell_type": "code",
   "execution_count": 7,
   "metadata": {
    "ExecuteTime": {
     "end_time": "2019-04-26T14:35:34.102234Z",
     "start_time": "2019-04-26T14:35:33.791965Z"
    }
   },
   "outputs": [
    {
     "data": {
      "text/plain": [
       "  message: 'The solver successfully reached the end of the integration interval.'\n",
       "     nfev: 2901\n",
       "     njev: 93\n",
       "      nlu: 550\n",
       "      sol: None\n",
       "   status: 0\n",
       "  success: True\n",
       "        t: array([0.00000000e+00, 1.78030185e-04, 1.95833204e-03, 1.97613505e-02,\n",
       "       1.97791536e-01, 8.32474757e-01, 1.79121140e+00, 3.01774108e+00,\n",
       "       4.24427075e+00, 5.75169475e+00, 7.25911875e+00, 8.76654275e+00,\n",
       "       1.02739668e+01, 1.17813908e+01, 1.32888148e+01, 1.47962388e+01,\n",
       "       1.66997044e+01, 1.86031700e+01, 2.11173370e+01, 2.43245108e+01,\n",
       "       2.88107771e+01, 3.52439324e+01, 4.84456501e+01, 7.86247927e+01,\n",
       "       1.04090290e+02, 1.19602116e+02, 1.25941881e+02, 1.32281646e+02,\n",
       "       1.32790807e+02, 1.35798828e+02, 1.36939017e+02, 1.38800148e+02,\n",
       "       1.39869519e+02, 1.41178844e+02, 1.42488169e+02, 1.43479502e+02,\n",
       "       1.44470836e+02, 1.45462169e+02, 1.46453503e+02, 1.47444837e+02,\n",
       "       1.48436170e+02, 1.49427504e+02, 1.50165654e+02, 1.50903803e+02,\n",
       "       1.51641953e+02, 1.52079281e+02, 1.52516609e+02, 1.52953937e+02,\n",
       "       1.53284181e+02, 1.53470119e+02, 1.53699915e+02, 1.53808032e+02,\n",
       "       1.53958388e+02, 1.54012241e+02, 1.54111502e+02, 1.54163818e+02,\n",
       "       1.54230635e+02, 1.54256851e+02, 1.54299891e+02, 1.54322456e+02,\n",
       "       1.54351329e+02, 1.54362609e+02, 1.54381254e+02, 1.54391030e+02,\n",
       "       1.54403552e+02, 1.54408439e+02, 1.54416550e+02, 1.54420648e+02,\n",
       "       1.54426069e+02, 1.54427998e+02, 1.54431370e+02, 1.54434741e+02,\n",
       "       1.54436782e+02, 1.54437895e+02, 1.54439301e+02, 1.54439955e+02,\n",
       "       1.54440868e+02, 1.54441192e+02, 1.54441795e+02, 1.54442118e+02,\n",
       "       1.54442527e+02, 1.54442691e+02, 1.54442955e+02, 1.54443097e+02,\n",
       "       1.54443275e+02, 1.54443347e+02, 1.54443463e+02, 1.54443525e+02,\n",
       "       1.54443603e+02, 1.54443635e+02, 1.54443686e+02, 1.54443713e+02,\n",
       "       1.54443748e+02, 1.54443762e+02, 1.54443784e+02, 1.54443796e+02,\n",
       "       1.54443812e+02, 1.54443818e+02, 1.54443828e+02, 1.54443834e+02,\n",
       "       1.54443841e+02, 1.54443844e+02, 1.54443849e+02, 1.54443850e+02,\n",
       "       1.54443854e+02, 1.54443855e+02, 1.54443857e+02, 1.54443859e+02,\n",
       "       1.54443861e+02, 1.54443862e+02, 1.54443863e+02, 1.54443864e+02,\n",
       "       1.54443865e+02, 1.54443865e+02, 1.54443866e+02, 1.54443867e+02,\n",
       "       1.54443867e+02, 1.54443868e+02, 1.54443869e+02, 1.54443869e+02,\n",
       "       1.54443870e+02, 1.54443870e+02, 1.54443871e+02, 1.54443871e+02,\n",
       "       1.54443872e+02, 1.54443872e+02, 1.54443873e+02, 1.54443873e+02,\n",
       "       1.54443873e+02, 1.54443874e+02, 1.54443874e+02, 1.54443875e+02,\n",
       "       1.54443876e+02, 1.54443877e+02, 1.54443878e+02, 1.54443880e+02,\n",
       "       1.54443883e+02, 1.54443889e+02, 1.54443917e+02, 1.54444100e+02,\n",
       "       1.54445937e+02, 1.54455123e+02, 1.54458745e+02, 1.54460106e+02,\n",
       "       1.54461467e+02, 1.54464593e+02, 1.54467640e+02, 1.54469068e+02,\n",
       "       1.54469916e+02, 1.54470659e+02, 1.54471121e+02, 1.54471333e+02,\n",
       "       1.54471544e+02, 1.54471730e+02, 1.54471842e+02, 1.54471876e+02,\n",
       "       1.54471932e+02, 1.54471991e+02, 1.54472023e+02, 1.54472044e+02,\n",
       "       1.54472064e+02, 1.54472079e+02, 1.54472087e+02, 1.54472096e+02,\n",
       "       1.54472105e+02, 1.54472112e+02, 1.54472119e+02, 1.54472123e+02,\n",
       "       1.54472128e+02, 1.54472131e+02, 1.54472134e+02, 1.54472137e+02,\n",
       "       1.54472139e+02, 1.54472141e+02, 1.54472142e+02, 1.54472144e+02,\n",
       "       1.54472146e+02, 1.54472147e+02, 1.54472149e+02, 1.54472151e+02,\n",
       "       1.54472152e+02, 1.54472154e+02, 1.54472155e+02, 1.54472157e+02,\n",
       "       1.54472158e+02, 1.54472160e+02, 1.54472161e+02, 1.54472162e+02,\n",
       "       1.54472164e+02, 1.54472165e+02, 1.54472167e+02, 1.54472168e+02,\n",
       "       1.54472170e+02, 1.54472171e+02, 1.54472172e+02, 1.54472174e+02,\n",
       "       1.54472175e+02, 1.54472177e+02, 1.54472179e+02, 1.54472180e+02,\n",
       "       1.54472182e+02, 1.54472184e+02, 1.54472185e+02, 1.54472187e+02,\n",
       "       1.54472189e+02, 1.54472191e+02, 1.54472192e+02, 1.54472194e+02,\n",
       "       1.54472196e+02, 1.54472197e+02, 1.54472199e+02, 1.54472201e+02,\n",
       "       1.54472203e+02, 1.54472206e+02, 1.54472209e+02, 1.54472214e+02,\n",
       "       1.54472221e+02, 1.54472233e+02, 1.54472268e+02, 1.54472443e+02,\n",
       "       1.54473953e+02, 1.54489050e+02, 1.54640021e+02, 1.56149733e+02,\n",
       "       1.71246844e+02, 1.86991339e+02, 2.02981554e+02, 2.10976662e+02,\n",
       "       2.17913799e+02, 2.27287093e+02, 2.33508817e+02, 2.41108929e+02,\n",
       "       2.50754804e+02, 2.67224904e+02, 2.79228728e+02, 2.86746623e+02,\n",
       "       2.95143666e+02, 3.03540710e+02, 3.11937753e+02, 3.20633251e+02,\n",
       "       3.28385063e+02, 3.32260969e+02, 3.35691378e+02, 3.41027242e+02,\n",
       "       3.57864637e+02, 3.63881668e+02, 3.67689251e+02, 3.75953235e+02,\n",
       "       3.84217219e+02, 3.92481203e+02, 3.98290555e+02, 4.01318234e+02,\n",
       "       4.04008021e+02, 4.08250082e+02, 4.14606844e+02, 4.28433381e+02,\n",
       "       4.44006216e+02, 4.57492835e+02, 4.70979454e+02, 4.84537016e+02,\n",
       "       4.98404973e+02, 5.12248351e+02, 5.26457041e+02, 5.40027586e+02,\n",
       "       5.48135544e+02, 5.57210034e+02, 5.66284523e+02, 5.75126723e+02,\n",
       "       5.81345042e+02, 5.88774444e+02, 5.97769659e+02, 6.00000000e+02])\n",
       " t_events: None\n",
       "        y: array([[ 0.00000000e+00,  1.73049301e-03,  1.90262238e-02, ...,\n",
       "        -1.06571086e+12, -1.27788771e+12, -1.33672972e+12],\n",
       "       [ 1.83430000e+02,  1.83429164e+02,  1.83420819e+02, ...,\n",
       "        -7.25259320e+12, -8.69629256e+12, -9.09666994e+12],\n",
       "       [ 6.44400000e-01,  6.44405572e-01,  6.44461257e-01, ...,\n",
       "         7.03425290e-01,  7.03425290e-01,  7.03425290e-01],\n",
       "       [ 1.00000000e+00,  9.99905616e-01,  9.98962306e-01, ...,\n",
       "        -1.12120612e-14, -6.47715054e-14, -2.35086039e-14]])"
      ]
     },
     "execution_count": 7,
     "metadata": {},
     "output_type": "execute_result"
    }
   ],
   "source": [
    "solution_RADAU = integrate.solve_ivp(\n",
    "    lambda t, X: coffee(t, X, alpha, beta), \n",
    "    t_span=(t0, tmax), \n",
    "    y0=(c_h0, c_v0, phi_v0, psi_s0,), \n",
    "    method='Radau'\n",
    ")\n",
    "\n",
    "solution_RADAU"
   ]
  },
  {
   "cell_type": "markdown",
   "metadata": {},
   "source": [
    "Gathering the solutions:"
   ]
  },
  {
   "cell_type": "code",
   "execution_count": 8,
   "metadata": {
    "ExecuteTime": {
     "end_time": "2019-04-26T14:35:34.107392Z",
     "start_time": "2019-04-26T14:35:34.104555Z"
    }
   },
   "outputs": [],
   "source": [
    "times, variables = solution_RADAU.t, solution_RADAU.y"
   ]
  },
  {
   "cell_type": "markdown",
   "metadata": {},
   "source": [
    "Separating the solutions:"
   ]
  },
  {
   "cell_type": "code",
   "execution_count": 9,
   "metadata": {
    "ExecuteTime": {
     "end_time": "2019-04-26T14:35:34.122028Z",
     "start_time": "2019-04-26T14:35:34.109891Z"
    }
   },
   "outputs": [],
   "source": [
    "c_h, c_v, phi_v, psi_s = variables"
   ]
  },
  {
   "cell_type": "markdown",
   "metadata": {},
   "source": [
    "Plotting the solutions:"
   ]
  },
  {
   "cell_type": "code",
   "execution_count": 10,
   "metadata": {
    "ExecuteTime": {
     "end_time": "2019-04-26T14:35:34.291766Z",
     "start_time": "2019-04-26T14:35:34.123521Z"
    }
   },
   "outputs": [
    {
     "data": {
      "image/png": "[encoded data removed]",
      "text/plain": [
       "<Figure size 432x288 with 1 Axes>"
      ]
     },
     "metadata": {
      "needs_background": "light"
     },
     "output_type": "display_data"
    }
   ],
   "source": [
    "plt.plot(times, c_h)\n",
    "plt.show()"
   ]
  },
  {
   "cell_type": "markdown",
   "metadata": {},
   "source": [
    "## Calibration:"
   ]
  },
  {
   "cell_type": "markdown",
   "metadata": {},
   "source": [
    "Reading the data from experimental measures:"
   ]
  },
  {
   "cell_type": "code",
   "execution_count": 11,
   "metadata": {
    "ExecuteTime": {
     "end_time": "2019-04-26T14:35:34.322003Z",
     "start_time": "2019-04-26T14:35:34.293751Z"
    }
   },
   "outputs": [
    {
     "data": {
      "text/html": [
       "<div>\n",
       "<style scoped>\n",
       "    .dataframe tbody tr th:only-of-type {\n",
       "        vertical-align: middle;\n",
       "    }\n",
       "\n",
       "    .dataframe tbody tr th {\n",
       "        vertical-align: top;\n",
       "    }\n",
       "\n",
       "    .dataframe thead th {\n",
       "        text-align: right;\n",
       "    }\n",
       "</style>\n",
       "<table border=\"1\" class=\"dataframe\">\n",
       "  <thead>\n",
       "    <tr style=\"text-align: right;\">\n",
       "      <th></th>\n",
       "      <th>t</th>\n",
       "      <th>c_h</th>\n",
       "    </tr>\n",
       "  </thead>\n",
       "  <tbody>\n",
       "    <tr>\n",
       "      <th>0</th>\n",
       "      <td>33.802817</td>\n",
       "      <td>29.047619</td>\n",
       "    </tr>\n",
       "    <tr>\n",
       "      <th>1</th>\n",
       "      <td>49.295775</td>\n",
       "      <td>31.904762</td>\n",
       "    </tr>\n",
       "    <tr>\n",
       "      <th>2</th>\n",
       "      <td>87.323944</td>\n",
       "      <td>34.523810</td>\n",
       "    </tr>\n",
       "    <tr>\n",
       "      <th>3</th>\n",
       "      <td>147.887324</td>\n",
       "      <td>36.309524</td>\n",
       "    </tr>\n",
       "    <tr>\n",
       "      <th>4</th>\n",
       "      <td>349.295775</td>\n",
       "      <td>36.428571</td>\n",
       "    </tr>\n",
       "    <tr>\n",
       "      <th>5</th>\n",
       "      <td>498.591549</td>\n",
       "      <td>36.428571</td>\n",
       "    </tr>\n",
       "  </tbody>\n",
       "</table>\n",
       "</div>"
      ],
      "text/plain": [
       "            t        c_h\n",
       "0   33.802817  29.047619\n",
       "1   49.295775  31.904762\n",
       "2   87.323944  34.523810\n",
       "3  147.887324  36.309524\n",
       "4  349.295775  36.428571\n",
       "5  498.591549  36.428571"
      ]
     },
     "execution_count": 11,
     "metadata": {},
     "output_type": "execute_result"
    }
   ],
   "source": [
    "exp_data = pd.read_csv('../data/coffee_conc.csv', decimal=\",\")\n",
    "\n",
    "exp_data"
   ]
  },
  {
   "cell_type": "code",
   "execution_count": 12,
   "metadata": {
    "ExecuteTime": {
     "end_time": "2019-04-26T14:35:34.764267Z",
     "start_time": "2019-04-26T14:35:34.323782Z"
    }
   },
   "outputs": [
    {
     "data": {
      "image/png": "[encoded data removed]",
      "text/plain": [
       "<Figure size 432x288 with 1 Axes>"
      ]
     },
     "metadata": {
      "needs_background": "light"
     },
     "output_type": "display_data"
    }
   ],
   "source": [
    "plt.plot(exp_data.t, exp_data.c_h, 'o-')\n",
    "plt.xlabel('Time [s]')\n",
    "plt.ylabel(r'$c_h$ [kg/m$^3$]')\n",
    "plt.grid(True, linestyle='--')\n",
    "plt.xlim([0, 500])\n",
    "plt.ylim([0, 40])\n",
    "plt.show()"
   ]
  },
  {
   "cell_type": "markdown",
   "metadata": {},
   "source": [
    "Calibration objective function:"
   ]
  },
  {
   "cell_type": "code",
   "execution_count": 13,
   "metadata": {
    "ExecuteTime": {
     "end_time": "2019-04-26T14:35:34.773082Z",
     "start_time": "2019-04-26T14:35:34.765982Z"
    }
   },
   "outputs": [],
   "source": [
    "def coffee_solution(x, t_eval=[]):\n",
    "    if len(x) > 2:\n",
    "        raise ValueError('x must have length equal to 2: alpha and beta parameters')\n",
    "        \n",
    "    # Getting fitting parameters\n",
    "    alpha, beta = x\n",
    "    \n",
    "    # Solving the ODE system\n",
    "    if len(t_eval) == 0:\n",
    "        raise ValueError(\"Please provide times to evaluate the function\")\n",
    "    else:\n",
    "        try:\n",
    "            solution_RADAU = integrate.solve_ivp(\n",
    "                lambda t, X: coffee(t, X, alpha, beta), \n",
    "                t_span=(0, t_eval.max()), \n",
    "                y0=(c_h0, c_v0, phi_v0, psi_s0,), \n",
    "                method='Radau',\n",
    "                t_eval=t_eval.values\n",
    "            )\n",
    "        except:\n",
    "            return np.array([np.inf] * len(t_eval))\n",
    "    \n",
    "    c_h, c_v, phi_v, psi_s = solution_RADAU.y\n",
    "    \n",
    "    if len(c_h) != len(t_eval):\n",
    "        c_h = np.array([np.inf] * len(t_eval))\n",
    "    \n",
    "    return c_h"
   ]
  },
  {
   "cell_type": "code",
   "execution_count": 14,
   "metadata": {
    "ExecuteTime": {
     "end_time": "2019-04-26T14:35:34.789894Z",
     "start_time": "2019-04-26T14:35:34.774666Z"
    }
   },
   "outputs": [],
   "source": [
    "def calibration_least_squares(pars, exp_data):\n",
    "    residual = exp_data.c_h.values - coffee_solution(pars, t_eval=exp_data.t)\n",
    "    least_squares_evaluation = np.sum(residual ** 2.0)\n",
    "    return least_squares_evaluation"
   ]
  },
  {
   "cell_type": "markdown",
   "metadata": {},
   "source": [
    "Fitting by least square minimization:"
   ]
  },
  {
   "cell_type": "code",
   "execution_count": 15,
   "metadata": {
    "ExecuteTime": {
     "end_time": "2019-04-26T14:44:01.905062Z",
     "start_time": "2019-04-26T14:35:34.791582Z"
    }
   },
   "outputs": [
    {
     "name": "stdout",
     "output_type": "stream",
     "text": [
      "differential_evolution step 1: f(x)= 696.127\n"
     ]
    },
    {
     "name": "stderr",
     "output_type": "stream",
     "text": [
      "/home/diego/Work/miniconda/envs/coffeebreak/lib/python3.6/site-packages/ipykernel_launcher.py:6: RuntimeWarning: invalid value encountered in double_scalars\n",
      "  \n",
      "/home/diego/Work/miniconda/envs/coffeebreak/lib/python3.6/site-packages/scipy/integrate/_ivp/common.py:333: RuntimeWarning: invalid value encountered in less\n",
      "  diff_too_small = max_diff < NUM_JAC_DIFF_REJECT * scale\n",
      "/home/diego/Work/miniconda/envs/coffeebreak/lib/python3.6/site-packages/scipy/integrate/_ivp/common.py:358: RuntimeWarning: invalid value encountered in less\n",
      "  factor[max_diff < NUM_JAC_DIFF_SMALL * scale] *= NUM_JAC_FACTOR_INCREASE\n",
      "/home/diego/Work/miniconda/envs/coffeebreak/lib/python3.6/site-packages/scipy/integrate/_ivp/common.py:359: RuntimeWarning: invalid value encountered in greater\n",
      "  factor[max_diff > NUM_JAC_DIFF_BIG * scale] *= NUM_JAC_FACTOR_DECREASE\n"
     ]
    },
    {
     "name": "stdout",
     "output_type": "stream",
     "text": [
      "differential_evolution step 2: f(x)= 696.127\n",
      "differential_evolution step 3: f(x)= 695.159\n",
      "differential_evolution step 4: f(x)= 695.159\n",
      "differential_evolution step 5: f(x)= 695.159\n",
      "differential_evolution step 6: f(x)= 695.159\n",
      "differential_evolution step 7: f(x)= 695.159\n",
      "differential_evolution step 8: f(x)= 695.159\n",
      "differential_evolution step 9: f(x)= 695.159\n",
      "differential_evolution step 10: f(x)= 695.159\n",
      "differential_evolution step 11: f(x)= 695.159\n",
      "differential_evolution step 12: f(x)= 695.159\n",
      "differential_evolution step 13: f(x)= 695.121\n",
      "differential_evolution step 14: f(x)= 695.068\n",
      "differential_evolution step 15: f(x)= 694.936\n",
      "differential_evolution step 16: f(x)= 694.936\n",
      "differential_evolution step 17: f(x)= 694.201\n",
      "differential_evolution step 18: f(x)= 694.201\n",
      "differential_evolution step 19: f(x)= 694.201\n",
      "differential_evolution step 20: f(x)= 694.066\n",
      "differential_evolution step 21: f(x)= 694.066\n",
      "differential_evolution step 22: f(x)= 693.961\n",
      "differential_evolution step 23: f(x)= 693.961\n",
      "differential_evolution step 24: f(x)= 693.961\n",
      "differential_evolution step 25: f(x)= 693.961\n",
      "differential_evolution step 26: f(x)= 693.961\n",
      "differential_evolution step 27: f(x)= 693.961\n",
      "differential_evolution step 28: f(x)= 693.961\n",
      "differential_evolution step 29: f(x)= 693.931\n",
      "differential_evolution step 30: f(x)= 693.931\n",
      "differential_evolution step 31: f(x)= 693.931\n",
      "differential_evolution step 32: f(x)= 693.931\n",
      "differential_evolution step 33: f(x)= 693.931\n",
      "differential_evolution step 34: f(x)= 693.931\n",
      "differential_evolution step 35: f(x)= 693.931\n",
      "differential_evolution step 36: f(x)= 693.931\n",
      "differential_evolution step 37: f(x)= 693.926\n",
      "differential_evolution step 38: f(x)= 693.926\n",
      "differential_evolution step 39: f(x)= 693.926\n",
      "differential_evolution step 40: f(x)= 693.917\n"
     ]
    }
   ],
   "source": [
    "bounds = [(0, 1), (0, 1)]\n",
    "result = differential_evolution(\n",
    "    calibration_least_squares,\n",
    "    bounds=bounds,\n",
    "    args=(exp_data,),\n",
    "    disp=True,\n",
    "    popsize=70,\n",
    "    strategy='best2exp',\n",
    "    tol=1e-5,\n",
    "    recombination=0.9,\n",
    "    mutation=0.5,\n",
    "    maxiter=50\n",
    ")"
   ]
  },
  {
   "cell_type": "code",
   "execution_count": 16,
   "metadata": {
    "ExecuteTime": {
     "end_time": "2019-04-26T14:44:01.910217Z",
     "start_time": "2019-04-26T14:44:01.906750Z"
    }
   },
   "outputs": [
    {
     "data": {
      "text/plain": [
       "(0.012538637759421378, 0.02077685076548491)"
      ]
     },
     "execution_count": 16,
     "metadata": {},
     "output_type": "execute_result"
    }
   ],
   "source": [
    "alpha, beta = result.x\n",
    "\n",
    "alpha, beta"
   ]
  },
  {
   "cell_type": "code",
   "execution_count": 17,
   "metadata": {
    "ExecuteTime": {
     "end_time": "2019-04-26T14:44:01.951002Z",
     "start_time": "2019-04-26T14:44:01.911803Z"
    }
   },
   "outputs": [],
   "source": [
    "solution_RADAU = integrate.solve_ivp(\n",
    "            lambda t, X: coffee(t, X, alpha, beta), \n",
    "            t_span=(t0, tmax), \n",
    "            y0=(c_h0, c_v0, phi_v0, psi_s0,), \n",
    "            method='Radau'\n",
    "        )\n",
    "\n",
    "time = solution_RADAU.t\n",
    "c_h, c_v, phi_v, psi_s = solution_RADAU.y"
   ]
  },
  {
   "cell_type": "code",
   "execution_count": 18,
   "metadata": {
    "ExecuteTime": {
     "end_time": "2019-04-26T14:44:02.102735Z",
     "start_time": "2019-04-26T14:44:01.952760Z"
    }
   },
   "outputs": [
    {
     "data": {
      "image/png": "[encoded data removed]",
      "text/plain": [
       "<Figure size 432x288 with 1 Axes>"
      ]
     },
     "metadata": {
      "needs_background": "light"
     },
     "output_type": "display_data"
    }
   ],
   "source": [
    "plt.plot(time, c_h, label='Simulated')\n",
    "plt.plot(exp_data.t, exp_data.c_h, 'o-', label='Experimental')\n",
    "plt.xlabel('Time [s]')\n",
    "plt.ylabel(r'$c_h$ [kg/m$^3$]')\n",
    "plt.grid(True, linestyle='--')\n",
    "plt.xlim([0, 500])\n",
    "plt.ylim([0, 40])\n",
    "plt.legend()\n",
    "plt.savefig('calibration_model1.png')\n",
    "plt.show()"
   ]
  },
  {
   "cell_type": "code",
   "execution_count": 19,
   "metadata": {
    "ExecuteTime": {
     "end_time": "2019-04-26T14:47:15.067811Z",
     "start_time": "2019-04-26T14:44:02.104363Z"
    }
   },
   "outputs": [
    {
     "name": "stdout",
     "output_type": "stream",
     "text": [
      "differential_evolution step 1: f(x)= 699.24\n",
      "differential_evolution step 2: f(x)= 696.848\n",
      "differential_evolution step 3: f(x)= 694.032\n",
      "differential_evolution step 4: f(x)= 693.953\n",
      "differential_evolution step 5: f(x)= 693.953\n",
      "differential_evolution step 6: f(x)= 693.953\n",
      "differential_evolution step 7: f(x)= 693.953\n",
      "differential_evolution step 8: f(x)= 693.953\n",
      "differential_evolution step 9: f(x)= 693.953\n",
      "differential_evolution step 10: f(x)= 693.933\n",
      "differential_evolution step 11: f(x)= 693.933\n",
      "differential_evolution step 12: f(x)= 693.929\n",
      "differential_evolution step 13: f(x)= 693.929\n",
      "differential_evolution step 14: f(x)= 693.929\n",
      "differential_evolution step 15: f(x)= 693.927\n",
      "differential_evolution step 16: f(x)= 693.927\n",
      "differential_evolution step 17: f(x)= 693.927\n",
      "differential_evolution step 18: f(x)= 693.927\n",
      "differential_evolution step 19: f(x)= 693.927\n",
      "differential_evolution step 20: f(x)= 693.927\n",
      "differential_evolution step 21: f(x)= 693.926\n",
      "differential_evolution step 22: f(x)= 693.926\n",
      "differential_evolution step 23: f(x)= 693.926\n",
      "differential_evolution step 24: f(x)= 693.926\n",
      "differential_evolution step 25: f(x)= 693.926\n",
      "differential_evolution step 26: f(x)= 693.926\n",
      "differential_evolution step 27: f(x)= 693.926\n",
      "differential_evolution step 28: f(x)= 693.926\n",
      "differential_evolution step 29: f(x)= 693.926\n",
      "differential_evolution step 30: f(x)= 693.926\n",
      "differential_evolution step 31: f(x)= 693.926\n",
      "differential_evolution step 32: f(x)= 693.926\n"
     ]
    },
    {
     "name": "stderr",
     "output_type": "stream",
     "text": [
      "/home/diego/Work/miniconda/envs/coffeebreak/lib/python3.6/site-packages/scipy/optimize/optimize.py:670: RuntimeWarning: invalid value encountered in double_scalars\n",
      "  grad[k] = (f(*((xk + d,) + args)) - f0) / d[k]\n"
     ]
    }
   ],
   "source": [
    "bounds = [(-alpha, alpha), (-beta, beta)]\n",
    "result = differential_evolution(\n",
    "    calibration_least_square,\n",
    "    bounds=bounds,\n",
    "    args=(exp_data,),\n",
    "    disp=True,\n",
    "    popsize=70,\n",
    "    strategy='best2bin',\n",
    "    tol=1e-5,\n",
    "    recombination=0.9,\n",
    "    mutation=0.5,\n",
    "    maxiter=50\n",
    ")"
   ]
  },
  {
   "cell_type": "code",
   "execution_count": 20,
   "metadata": {
    "ExecuteTime": {
     "end_time": "2019-04-26T14:47:15.071855Z",
     "start_time": "2019-04-26T14:47:15.069432Z"
    }
   },
   "outputs": [],
   "source": [
    "alpha, beta = result.x"
   ]
  },
  {
   "cell_type": "code",
   "execution_count": 21,
   "metadata": {
    "ExecuteTime": {
     "end_time": "2019-04-26T14:47:15.119482Z",
     "start_time": "2019-04-26T14:47:15.073722Z"
    }
   },
   "outputs": [],
   "source": [
    "solution_RADAU = integrate.solve_ivp(\n",
    "            lambda t, X: coffee(t, X, alpha, beta), \n",
    "            t_span=(t0, tmax), \n",
    "            y0=(c_h0, c_v0, phi_v0, psi_s0,), \n",
    "            method='Radau'\n",
    "        )\n",
    "\n",
    "time = solution_RADAU.t\n",
    "c_h, c_v, phi_v, psi_s = solution_RADAU.y"
   ]
  },
  {
   "cell_type": "code",
   "execution_count": 24,
   "metadata": {
    "ExecuteTime": {
     "end_time": "2019-04-26T14:51:15.887928Z",
     "start_time": "2019-04-26T14:51:15.656270Z"
    }
   },
   "outputs": [
    {
     "data": {
      "image/png": "[encoded data removed]",
      "text/plain": [
       "<Figure size 432x288 with 1 Axes>"
      ]
     },
     "metadata": {
      "needs_background": "light"
     },
     "output_type": "display_data"
    }
   ],
   "source": [
    "plt.plot(time, c_h, label='Simulated')\n",
    "plt.plot(exp_data.t, exp_data.c_h, 'o-', label='Experimental')\n",
    "plt.xlabel('Time [s]')\n",
    "plt.ylabel(r'$c_h$ [kg/m$^3$]')\n",
    "plt.grid(True, linestyle='--')\n",
    "plt.xlim([0, 500])\n",
    "plt.ylim([0, 40])\n",
    "plt.legend()\n",
    "plt.savefig('calibration_model1.png')\n",
    "plt.show()"
   ]
  }
 ],
 "metadata": {
  "kernelspec": {
   "display_name": "Python 3",
   "language": "python",
   "name": "python3"
  },
  "language_info": {
   "codemirror_mode": {
    "name": "ipython",
    "version": 3
   },
   "file_extension": ".py",
   "mimetype": "text/x-python",
   "name": "python",
   "nbconvert_exporter": "python",
   "pygments_lexer": "ipython3",
   "version": "3.6.7"
  },
  "toc": {
   "base_numbering": 1,
   "nav_menu": {},
   "number_sections": true,
   "sideBar": true,
   "skip_h1_title": false,
   "title_cell": "Table of Contents",
   "title_sidebar": "Contents",
   "toc_cell": false,
   "toc_position": {},
   "toc_section_display": true,
   "toc_window_display": false
  }
 },
 "nbformat": 4,
 "nbformat_minor": 2
}
